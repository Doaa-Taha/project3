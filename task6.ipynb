{
 "cells": [
  {
   "cell_type": "code",
   "execution_count": 1,
   "id": "1047a9ec",
   "metadata": {},
   "outputs": [],
   "source": [
    "def get_min_max(ints=[]):\n",
    "    \"\"\"\n",
    "    Return a tuple(min, max) out of list of unsorted integers.\n",
    "    \n",
    "    Args:\n",
    "       ints(list): list of integers containing one or more integers\n",
    "    \"\"\"\n",
    "    # check the type of the input to be a list and also check the lenght of the input to be > 0\n",
    "    if type(ints) is list and len(ints) > 0:\n",
    "        \n",
    "        min = ints[0]\n",
    "        max = ints[0]\n",
    "        for num in ints:\n",
    "            \n",
    "            if num < min:\n",
    "                min = num\n",
    "            elif num > max:\n",
    "                max = num\n",
    "        return (min, max)\n",
    "    else:\n",
    "        return \"invalid input\"\n",
    "        \n",
    "    pass\n"
   ]
  },
  {
   "cell_type": "code",
   "execution_count": 4,
   "id": "072fed61",
   "metadata": {},
   "outputs": [
    {
     "name": "stdout",
     "output_type": "stream",
     "text": [
      "Pass\n",
      "Pass\n",
      "Pass\n"
     ]
    }
   ],
   "source": [
    "### Example Test Case of Ten Integers\n",
    "import random\n",
    "\n",
    "l = [i for i in range(0, 10)]  # a list containing 0 - 9\n",
    "random.shuffle(l)\n",
    "\n",
    "print (\"Pass\" if ((0, 9) == get_min_max(l)) else \"Fail\")\n",
    "print (\"Pass\" if ((0, 7) == get_min_max([2, 5, 7, 1, 0])) else \"Fail\")\n",
    "print (\"Pass\" if ((3, 8) == get_min_max([8, 5, 6, 4, 3])) else \"Fail\")"
   ]
  },
  {
   "cell_type": "code",
   "execution_count": 3,
   "id": "38ef345e",
   "metadata": {},
   "outputs": [
    {
     "name": "stdout",
     "output_type": "stream",
     "text": [
      "pass\n",
      "pass\n",
      "pass\n"
     ]
    }
   ],
   "source": [
    "#tests for edge cases\n",
    "# test empty list\n",
    "output1 = get_min_max([])\n",
    "print(\"pass\" if output1 == \"invalid input\" else \"fail\")\n",
    "\n",
    "#test a sting input \n",
    "output2 = get_min_max(\"not-list\")\n",
    "print(\"pass\" if output2 == \"invalid input\" else \"fail\")\n",
    "\n",
    "#test a none input \n",
    "output3 = get_min_max()\n",
    "print(\"pass\" if output3 == \"invalid input\" else \"fail\")\n"
   ]
  },
  {
   "cell_type": "code",
   "execution_count": null,
   "id": "832385a4",
   "metadata": {},
   "outputs": [],
   "source": []
  }
 ],
 "metadata": {
  "kernelspec": {
   "display_name": "Python 3 (ipykernel)",
   "language": "python",
   "name": "python3"
  },
  "language_info": {
   "codemirror_mode": {
    "name": "ipython",
    "version": 3
   },
   "file_extension": ".py",
   "mimetype": "text/x-python",
   "name": "python",
   "nbconvert_exporter": "python",
   "pygments_lexer": "ipython3",
   "version": "3.11.3"
  }
 },
 "nbformat": 4,
 "nbformat_minor": 5
}
