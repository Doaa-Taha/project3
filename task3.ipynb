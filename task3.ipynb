{
 "cells": [
  {
   "cell_type": "code",
   "execution_count": 12,
   "id": "61fd9ac0",
   "metadata": {},
   "outputs": [],
   "source": [
    "def mergesort(items):\n",
    "\n",
    "    if len(items) <= 1:\n",
    "        return items\n",
    "    \n",
    "    mid = len(items) // 2\n",
    "    left = items[:mid]\n",
    "    right = items[mid:]\n",
    "    \n",
    "    left = mergesort(left)\n",
    "    right = mergesort(right)\n",
    "    \n",
    "    return merge(left, right)\n",
    "    \n",
    "def merge(left, right):\n",
    "    \n",
    "    merged = []\n",
    "    left_index = 0\n",
    "    right_index = 0\n",
    "    \n",
    "    while left_index < len(left) and right_index < len(right):\n",
    "        if left[left_index] > right[right_index]:\n",
    "            merged.append(right[right_index])\n",
    "            right_index += 1\n",
    "        else:\n",
    "            merged.append(left[left_index])\n",
    "            left_index += 1\n",
    "\n",
    "    merged += left[left_index:]\n",
    "    merged += right[right_index:]\n",
    "        \n",
    "    return merged"
   ]
  },
  {
   "cell_type": "code",
   "execution_count": 13,
   "id": "ec473592",
   "metadata": {},
   "outputs": [],
   "source": [
    "def rearrange_digits(input_list):\n",
    "    \"\"\"\n",
    "    Rearrange Array Elements so as to form two number such that their sum is maximum.\n",
    "\n",
    "    Args:\n",
    "       input_list(list): Input List\n",
    "    Returns:\n",
    "       (int),(int): Two maximum sums\n",
    "    \"\"\"\n",
    "    #first we need to sort the input_list\n",
    "    sorted_input_list = mergesort(input_list)\n",
    "    \n",
    "    num1 = \"\"\n",
    "    num2 = \"\"\n",
    "    \n",
    "    for i in range(len(sorted_input_list)):\n",
    "        if i % 2 == 0:\n",
    "            num1 = str(sorted_input_list[i]) + num1\n",
    "        else:\n",
    "            num2 = str(sorted_input_list[i]) + num2\n",
    "            \n",
    "    return (int(num1), int(num2))\n",
    "    pass\n",
    "\n"
   ]
  },
  {
   "cell_type": "code",
   "execution_count": 14,
   "id": "ad3cbd36",
   "metadata": {},
   "outputs": [
    {
     "name": "stdout",
     "output_type": "stream",
     "text": [
      "Pass\n",
      "[2, 4, 5, 6, 8, 9]\n"
     ]
    }
   ],
   "source": [
    "def test_function(test_case):\n",
    "    output = rearrange_digits(test_case[0])\n",
    "    solution = test_case[1]\n",
    "    if sum(output) == sum(solution):\n",
    "        print(\"Pass\")\n",
    "    else:\n",
    "        print(\"Fail\")\n",
    "\n",
    "test_function([[1, 2, 3, 4, 5], [531, 42]])\n",
    "test_case = [[4, 6, 2, 5, 9, 8], [964, 852]]\n",
    "\n",
    "print(mergesort(test_case[0]))"
   ]
  },
  {
   "cell_type": "code",
   "execution_count": null,
   "id": "55f405cb",
   "metadata": {},
   "outputs": [],
   "source": []
  }
 ],
 "metadata": {
  "kernelspec": {
   "display_name": "Python 3 (ipykernel)",
   "language": "python",
   "name": "python3"
  },
  "language_info": {
   "codemirror_mode": {
    "name": "ipython",
    "version": 3
   },
   "file_extension": ".py",
   "mimetype": "text/x-python",
   "name": "python",
   "nbconvert_exporter": "python",
   "pygments_lexer": "ipython3",
   "version": "3.11.3"
  }
 },
 "nbformat": 4,
 "nbformat_minor": 5
}
