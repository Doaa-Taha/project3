{
 "cells": [
  {
   "cell_type": "code",
   "execution_count": 52,
   "id": "6f7469a3",
   "metadata": {},
   "outputs": [
    {
     "name": "stdout",
     "output_type": "stream",
     "text": [
      "[2, 4, 5, 6, 8, 9]\n"
     ]
    }
   ],
   "source": [
    "def mergesort(items):\n",
    "\n",
    "    if len(items) <= 1:\n",
    "        return items\n",
    "    \n",
    "    mid = len(items) // 2\n",
    "    left = items[:mid]\n",
    "    right = items[mid:]\n",
    "    \n",
    "    left = mergesort(left)\n",
    "    right = mergesort(right)\n",
    "    \n",
    "    return merge(left, right)\n",
    "    \n",
    "def merge(left, right):\n",
    "    \n",
    "    merged = []\n",
    "    left_index = 0\n",
    "    right_index = 0\n",
    "    \n",
    "    while left_index < len(left) and right_index < len(right):\n",
    "        if left[left_index] > right[right_index]:\n",
    "            merged.append(right[right_index])\n",
    "            right_index += 1\n",
    "        else:\n",
    "            merged.append(left[left_index])\n",
    "            left_index += 1\n",
    "\n",
    "    merged += left[left_index:]\n",
    "    merged += right[right_index:]\n",
    "        \n",
    "    return merged\n",
    "\n",
    "print(mergesort([4, 6, 2, 5, 9, 8]))"
   ]
  },
  {
   "cell_type": "code",
   "execution_count": 53,
   "id": "35fd3a2b",
   "metadata": {},
   "outputs": [],
   "source": [
    "def rearrange_digits(input_list=[]):\n",
    "    \"\"\"\n",
    "    Rearrange Array Elements so as to form two number such that their sum is maximum.\n",
    "\n",
    "    Args:\n",
    "       input_list(list): Input List\n",
    "    Returns:\n",
    "       (int),(int): Two maximum sums\n",
    "    \"\"\"\n",
    "    if type(input_list) is list and len(input_list) > 1:\n",
    "        #first we need to sort the input_list\n",
    "        sorted_input_list = mergesort(input_list)\n",
    "\n",
    "        num1 = \"\"\n",
    "        num2 = \"\"\n",
    "        #after sorting the numbers that have even index in the array will be concatenated to num1 variable\n",
    "        # while the numbers having odd index will be concatenated to num2 variable \n",
    "        # this way each number will have \n",
    "        for i in range(len(sorted_input_list)):\n",
    "            if i % 2 == 0:\n",
    "                #convert the number first to str and concatenate it in the front to form a bigger number as numbers \n",
    "                # are sorted in ascending order\n",
    "                num1 = str(sorted_input_list[i]) + num1 \n",
    "            else:\n",
    "                num2 = str(sorted_input_list[i]) + num2\n",
    "                \n",
    "        return (int(num1), int(num2)) # convert the strings holding the 2 numbers into integers again and return a tuple with the 2 numbers\n",
    "    else: \n",
    "        return \"invalid input\"\n",
    "    pass\n",
    "\n"
   ]
  },
  {
   "cell_type": "code",
   "execution_count": 54,
   "id": "962bde30",
   "metadata": {},
   "outputs": [
    {
     "name": "stdout",
     "output_type": "stream",
     "text": [
      "Pass\n",
      "Pass\n"
     ]
    }
   ],
   "source": [
    "def test_function(test_case):\n",
    "    output = rearrange_digits(test_case[0])\n",
    "    solution = test_case[1]\n",
    "    if sum(output) == sum(solution):\n",
    "        print(\"Pass\")\n",
    "    else:\n",
    "        print(\"Fail\")\n",
    "\n",
    "test_function([[1, 2, 3, 4, 5], [531, 42]])\n",
    "test_function([[4, 6, 2, 5, 9, 8], [852, 964]])\n"
   ]
  },
  {
   "cell_type": "code",
   "execution_count": 55,
   "id": "3464eb9e",
   "metadata": {},
   "outputs": [
    {
     "name": "stdout",
     "output_type": "stream",
     "text": [
      "pass\n",
      "pass\n",
      "pass\n",
      "pass\n",
      "pass\n"
     ]
    }
   ],
   "source": [
    "# test edge cases\n",
    "# 1) test empty list\n",
    "print(\"pass\" if rearrange_digits([]) == \"invalid input\" else \"fail\")\n",
    "# 2) test input of invalid type like strings\n",
    "print(\"pass\" if rearrange_digits(\"not_list\") == \"invalid input\" else \"fail\")\n",
    "# 3) test null input\n",
    "print(\"pass\" if rearrange_digits() == \"invalid input\" else \"fail\")\n",
    "# 4) test list with only one element\n",
    "print(\"pass\" if rearrange_digits([7]) == \"invalid input\" else \"fail\")\n",
    "# 5) test list with two elements\n",
    "print(\"pass\" if rearrange_digits([9, 7]) == (7, 9) else \"fail\")"
   ]
  }
 ],
 "metadata": {
  "kernelspec": {
   "display_name": "Python 3 (ipykernel)",
   "language": "python",
   "name": "python3"
  },
  "language_info": {
   "codemirror_mode": {
    "name": "ipython",
    "version": 3
   },
   "file_extension": ".py",
   "mimetype": "text/x-python",
   "name": "python",
   "nbconvert_exporter": "python",
   "pygments_lexer": "ipython3",
   "version": "3.11.3"
  }
 },
 "nbformat": 4,
 "nbformat_minor": 5
}
