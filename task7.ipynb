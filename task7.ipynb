{
 "cells": [
  {
   "cell_type": "code",
   "execution_count": 2,
   "id": "7a08fe9e",
   "metadata": {},
   "outputs": [],
   "source": [
    "## A RouteTrieNode will be similar to our autocomplete TrieNode... with one additional element, a handler.\n",
    "class RouteTrieNode:\n",
    "    def __init__(self, value, handler=None):\n",
    "        # Initialize the node with children as before, plus a handler\n",
    "        self.value = value\n",
    "        self.is_word = False\n",
    "        self.children = {}\n",
    "        self.handler = handler\n",
    "\n",
    "    def insert(self, value, handler=None):\n",
    "        # Insert the node as before\n",
    "        ## Add a child node in this Trie\n",
    "        if value not in self.children:    #create a node for the characters that not present only\n",
    "            self.children[value] = RouteTrieNode(value, handler)\n",
    "        \n",
    "\n",
    "# # #test node \n",
    "# node = RouteTrieNode(\"abc\")\n",
    "# node.insert(\"xyz\", \"example-handler\")\n",
    "# print(node.children)\n",
    "# print(node.children['xyz'].value)\n",
    "# print(node.children['xyz'].handler)"
   ]
  },
  {
   "cell_type": "code",
   "execution_count": 11,
   "id": "3d9db9bf",
   "metadata": {},
   "outputs": [
    {
     "name": "stdout",
     "output_type": "stream",
     "text": [
      "test handler\n",
      "handler not found\n"
     ]
    }
   ],
   "source": [
    "## A RouteTrie will store our routes and their associated handlers\n",
    "class RouteTrie:\n",
    "    def __init__(self, handler=\"root_handler\"):\n",
    "        # Initialize the trie with an root node and a handler, this is the root path or home page node\n",
    "        self.root = RouteTrieNode(\"/\", handler)\n",
    "        \n",
    "    def insert(self, path, handler):\n",
    "        # Similar to our previous example you will want to recursively add nodes\n",
    "        # Make sure you assign the handler to only the leaf (deepest) node of this path\n",
    "       \n",
    "        current_node = self.root\n",
    "        parts = path.split(\"/\")\n",
    "        \n",
    "        for part in parts:\n",
    "            if part != \"\":\n",
    "                current_node.insert(part, None)\n",
    "                current_node = current_node.children[part]\n",
    "            \n",
    "        current_node.handler = handler\n",
    "            \n",
    "    def find(self, path):\n",
    "        # Starting at the root, navigate the Trie to find a match for this path\n",
    "        # Return the handler for a match, or None for no match\n",
    "        current_node = self.root\n",
    "        parts = path.split(\"/\")\n",
    "        \n",
    "        for part in parts:\n",
    "            if part != \"\":\n",
    "                if part not in current_node.children:\n",
    "                    return \"handler not found\"\n",
    "                current_node = current_node.children[part]\n",
    "                \n",
    "        return current_node.handler\n",
    "    \n",
    "#test RouteTrie\n",
    "trie = RouteTrie()\n",
    "trie.insert(\"/test\", \"test handler\")\n",
    "print(trie.find(\"test\"))\n",
    "print(trie.find(\"/home\"))"
   ]
  },
  {
   "cell_type": "code",
   "execution_count": null,
   "id": "d1647143",
   "metadata": {},
   "outputs": [],
   "source": [
    "## The Router class will wrap the Trie and handle \n",
    "class Router:\n",
    "    def __init__(self, ...):\n",
    "        # Create a new RouteTrie for holding our routes\n",
    "        # You could also add a handler for 404 page not found responses as well!\n",
    "        \n",
    "    def add_handler(self, ...):\n",
    "        # Add a handler for a path\n",
    "        # You will need to split the path and pass the pass parts\n",
    "        # as a list to the RouteTrie\n",
    "        \n",
    "    def lookup(self, ...):\n",
    "        # lookup path (by parts) and return the associated handler\n",
    "        # you can return None if it's not found or\n",
    "        # return the \"not found\" handler if you added one\n",
    "        # bonus points if a path works with and without a trailing slash\n",
    "        # e.g. /about and /about/ both return the /about handler\n",
    "        \n",
    "    \n",
    "    def split_path(self, ...):\n",
    "        # you need to split the path into parts for \n",
    "        # both the add_handler and loopup functions,\n",
    "        # so it should be placed in a function here"
   ]
  },
  {
   "cell_type": "code",
   "execution_count": null,
   "id": "f3be0684",
   "metadata": {},
   "outputs": [],
   "source": [
    "## Here are some test cases and expected outputs you can use to test your implementation\n",
    "\n",
    "## create the router and add a route\n",
    "router = Router(\"root handler\", \"not found handler\") # remove the 'not found handler' if you did not implement this\n",
    "router.add_handler(\"/home/about\", \"about handler\")  # add a route\n",
    "\n",
    "## some lookups with the expected output\n",
    "print(router.lookup(\"/\")) # should print 'root handler'\n",
    "print(router.lookup(\"/home\")) # should print 'not found handler' or None if you did not implement one\n",
    "print(router.lookup(\"/home/about\")) # should print 'about handler'\n",
    "print(router.lookup(\"/home/about/\")) # should print 'about handler' or None if you did not handle trailing slashes\n",
    "print(router.lookup(\"/home/about/me\")) # should print 'not found handler' or None if you did not implement one"
   ]
  }
 ],
 "metadata": {
  "kernelspec": {
   "display_name": "Python 3 (ipykernel)",
   "language": "python",
   "name": "python3"
  },
  "language_info": {
   "codemirror_mode": {
    "name": "ipython",
    "version": 3
   },
   "file_extension": ".py",
   "mimetype": "text/x-python",
   "name": "python",
   "nbconvert_exporter": "python",
   "pygments_lexer": "ipython3",
   "version": "3.11.3"
  }
 },
 "nbformat": 4,
 "nbformat_minor": 5
}
