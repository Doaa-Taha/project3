{
 "cells": [
  {
   "cell_type": "code",
   "execution_count": 6,
   "id": "7a08fe9e",
   "metadata": {},
   "outputs": [
    {
     "name": "stdout",
     "output_type": "stream",
     "text": [
      "{'xyz': <__main__.RouteTrieNode object at 0x000001E89DD8C9D0>}\n",
      "xyz\n",
      "example-handler\n"
     ]
    }
   ],
   "source": [
    "## A RouteTrieNode will be similar to our autocomplete TrieNode... with one additional element, a handler.\n",
    "class RouteTrieNode:\n",
    "    def __init__(self, value, handler=None):\n",
    "        # Initialize the node with children as before, plus a handler\n",
    "        self.value = value\n",
    "        self.is_word = False\n",
    "        self.children = {}\n",
    "        self.handler = handler\n",
    "\n",
    "    def insert(self, value, handler=None):\n",
    "        # Insert the node as before\n",
    "        ## Add a child node in this Trie\n",
    "        if value not in self.children:    #create a node for the characters that not present only\n",
    "            self.children[value] = RouteTrieNode(value, handler)\n",
    "        \n",
    "\n",
    "## A RouteTrie will store our routes and their associated handlers\n",
    "# class RouteTrie:\n",
    "#     def __init__(self):\n",
    "#         # Initialize the trie with an root node and a handler, this is the root path or home page node\n",
    "\n",
    "#     def insert(self, ...):\n",
    "#         # Similar to our previous example you will want to recursively add nodes\n",
    "#         # Make sure you assign the handler to only the leaf (deepest) node of this path\n",
    "\n",
    "#     def find(self, ...):\n",
    "#         # Starting at the root, navigate the Trie to find a match for this path\n",
    "#         # Return the handler for a match, or None for no match\n",
    "# # #test node \n",
    "# node = RouteTrieNode(\"abc\")\n",
    "# node.insert(\"xyz\", \"example-handler\")\n",
    "# print(node.children)\n",
    "# print(node.children['xyz'].value)\n",
    "# print(node.children['xyz'].handler)"
   ]
  },
  {
   "cell_type": "code",
   "execution_count": null,
   "id": "d1647143",
   "metadata": {},
   "outputs": [],
   "source": [
    "## The Router class will wrap the Trie and handle \n",
    "class Router:\n",
    "    def __init__(self, ...):\n",
    "        # Create a new RouteTrie for holding our routes\n",
    "        # You could also add a handler for 404 page not found responses as well!\n",
    "        \n",
    "    def add_handler(self, ...):\n",
    "        # Add a handler for a path\n",
    "        # You will need to split the path and pass the pass parts\n",
    "        # as a list to the RouteTrie\n",
    "        \n",
    "    def lookup(self, ...):\n",
    "        # lookup path (by parts) and return the associated handler\n",
    "        # you can return None if it's not found or\n",
    "        # return the \"not found\" handler if you added one\n",
    "        # bonus points if a path works with and without a trailing slash\n",
    "        # e.g. /about and /about/ both return the /about handler\n",
    "        \n",
    "    \n",
    "    def split_path(self, ...):\n",
    "        # you need to split the path into parts for \n",
    "        # both the add_handler and loopup functions,\n",
    "        # so it should be placed in a function here"
   ]
  },
  {
   "cell_type": "code",
   "execution_count": null,
   "id": "f3be0684",
   "metadata": {},
   "outputs": [],
   "source": [
    "## Here are some test cases and expected outputs you can use to test your implementation\n",
    "\n",
    "## create the router and add a route\n",
    "router = Router(\"root handler\", \"not found handler\") # remove the 'not found handler' if you did not implement this\n",
    "router.add_handler(\"/home/about\", \"about handler\")  # add a route\n",
    "\n",
    "## some lookups with the expected output\n",
    "print(router.lookup(\"/\")) # should print 'root handler'\n",
    "print(router.lookup(\"/home\")) # should print 'not found handler' or None if you did not implement one\n",
    "print(router.lookup(\"/home/about\")) # should print 'about handler'\n",
    "print(router.lookup(\"/home/about/\")) # should print 'about handler' or None if you did not handle trailing slashes\n",
    "print(router.lookup(\"/home/about/me\")) # should print 'not found handler' or None if you did not implement one"
   ]
  }
 ],
 "metadata": {
  "kernelspec": {
   "display_name": "Python 3 (ipykernel)",
   "language": "python",
   "name": "python3"
  },
  "language_info": {
   "codemirror_mode": {
    "name": "ipython",
    "version": 3
   },
   "file_extension": ".py",
   "mimetype": "text/x-python",
   "name": "python",
   "nbconvert_exporter": "python",
   "pygments_lexer": "ipython3",
   "version": "3.11.3"
  }
 },
 "nbformat": 4,
 "nbformat_minor": 5
}
