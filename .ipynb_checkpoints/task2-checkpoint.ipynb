{
 "cells": [
  {
   "cell_type": "code",
   "execution_count": 1,
   "id": "e32ca3b9",
   "metadata": {},
   "outputs": [],
   "source": [
    "def rotated_array_search(input_list, number):\n",
    "    \"\"\"\n",
    "    Find the index by searching in a rotated sorted array\n",
    "\n",
    "    Args:\n",
    "       input_list(array), number(int): Input array to search and the target\n",
    "    Returns:\n",
    "       int: Index or -1\n",
    "    \"\"\"  \n",
    "    # define variables to help with code readability\n",
    "    start_index = 0\n",
    "    end_index = len(input_list) - 1\n",
    "    start_element = input_list[start_index]\n",
    "    end_element = input_list[end_index]\n",
    "   # loop until the start_index is smaller than or equals the end_index\n",
    "    while start_index <= end_index:\n",
    "        \n",
    "        # find the middle index and middle element\n",
    "        mid_index = (start_index + end_index) // 2\n",
    "        mid_element = input_list[mid_index]\n",
    "#         print(mid_element)\n",
    "        # return the middle index if the middle element equals the number\n",
    "        if mid_element == number:\n",
    "            return mid_index\n",
    "        \n",
    "        # 1st check if the first half of the array is sorted by checking that the first element is smaller than the mid_element\n",
    "        if start_element < mid_element:\n",
    "            # check if the target number is in the left half\n",
    "            #if so do the search in that half else in the right half\n",
    "            if start_element <= number < mid_element:\n",
    "                end_index = mid_index - 1\n",
    "            else: \n",
    "                start_index = mid_index + 1\n",
    "        \n",
    "        else: # otherwise if the right half is sorted\n",
    "            # check if the target number is in the right half \n",
    "            # if so search in the right half else search in the left half\n",
    "            if mid_element < number <= end_element:\n",
    "                start_index = mid_index +1 \n",
    "            else:\n",
    "                end_index = mid_index - 1\n",
    "            \n",
    "\n",
    "    #return -1 if the target number is not found\n",
    "    return -1\n",
    "\n",
    "    pass"
   ]
  },
  {
   "cell_type": "code",
   "execution_count": 2,
   "id": "7dcc287e",
   "metadata": {},
   "outputs": [],
   "source": [
    "def linear_search(input_list, number):\n",
    "    for index, element in enumerate(input_list):\n",
    "        if element == number:\n",
    "            return index\n",
    "    return -1\n",
    "    \n",
    "def test_function(test_case):\n",
    "    input_list = test_case[0]\n",
    "    number = test_case[1]\n",
    "    if linear_search(input_list, number) == rotated_array_search(input_list, number):\n",
    "        print(\"Pass\")\n",
    "    else:\n",
    "        print(\"Fail\")\n"
   ]
  },
  {
   "cell_type": "code",
   "execution_count": 3,
   "id": "70098f0d",
   "metadata": {},
   "outputs": [
    {
     "name": "stdout",
     "output_type": "stream",
     "text": [
      "10\n",
      "7\n",
      "6\n",
      "Pass\n",
      "10\n",
      "2\n",
      "1\n",
      "Pass\n",
      "1\n",
      "7\n",
      "8\n",
      "Pass\n",
      "1\n",
      "Pass\n",
      "1\n",
      "7\n",
      "8\n",
      "Pass\n"
     ]
    }
   ],
   "source": [
    "test_function([[6, 7, 8, 9, 10, 1, 2, 3, 4], 6])\n",
    "test_function([[6, 7, 8, 9, 10, 1, 2, 3, 4], 1])\n",
    "test_function([[6, 7, 8, 1, 2, 3, 4], 8])\n",
    "test_function([[6, 7, 8, 1, 2, 3, 4], 1])\n",
    "test_function([[6, 7, 8, 1, 2, 3, 4], 10])"
   ]
  }
 ],
 "metadata": {
  "kernelspec": {
   "display_name": "Python 3 (ipykernel)",
   "language": "python",
   "name": "python3"
  },
  "language_info": {
   "codemirror_mode": {
    "name": "ipython",
    "version": 3
   },
   "file_extension": ".py",
   "mimetype": "text/x-python",
   "name": "python",
   "nbconvert_exporter": "python",
   "pygments_lexer": "ipython3",
   "version": "3.11.3"
  }
 },
 "nbformat": 4,
 "nbformat_minor": 5
}
