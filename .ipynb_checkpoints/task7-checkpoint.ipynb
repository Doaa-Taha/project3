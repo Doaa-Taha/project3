{
 "cells": [
  {
   "cell_type": "code",
   "execution_count": 26,
   "id": "7a08fe9e",
   "metadata": {},
   "outputs": [],
   "source": [
    "## A RouteTrieNode will be similar to our autocomplete TrieNode... with one additional element, a handler.\n",
    "class RouteTrieNode:\n",
    "    def __init__(self, value, handler=None):\n",
    "        # Initialize the node with children as before, plus a handler\n",
    "        self.value = value\n",
    "        self.children = {}\n",
    "        self.handler = handler\n",
    "\n",
    "    def insert(self, value, handler=None):\n",
    "        # Insert the node as before\n",
    "        ## Add a child node in this Trie\n",
    "        if value not in self.children:    #create a node for the characters that not present only\n",
    "            self.children[value] = RouteTrieNode(value, handler)\n",
    "        \n",
    "\n",
    "# # #test node \n",
    "# node = RouteTrieNode(\"abc\")\n",
    "# node.insert(\"xyz\", \"example-handler\")\n",
    "# print(node.children)\n",
    "# print(node.children['xyz'].value)\n",
    "# print(node.children['xyz'].handler)"
   ]
  },
  {
   "cell_type": "code",
   "execution_count": 27,
   "id": "33ea8a30",
   "metadata": {},
   "outputs": [],
   "source": [
    "## A RouteTrie will store our routes and their associated handlers\n",
    "class RouteTrie:\n",
    "    def __init__(self, handler=\"root_handler\"):\n",
    "        # Initialize the trie with an root node and a handler, this is the root path or home page node\n",
    "        self.root = RouteTrieNode(\"/\", handler)\n",
    "        \n",
    "    def insert(self, path_parts, handler):\n",
    "        # Similar to our previous example you will want to recursively add nodes\n",
    "        # Make sure you assign the handler to only the leaf (deepest) node of this path\n",
    "       \n",
    "        current_node = self.root\n",
    "        #we'll add all the path parts to the trie but the handler will be added only to the very last node\n",
    "        for part in path_parts:\n",
    "            if part != \"\":\n",
    "                current_node.insert(part, None)\n",
    "                current_node = current_node.children[part]\n",
    "            \n",
    "        current_node.handler = handler\n",
    "            \n",
    "    def find(self, path_parts):\n",
    "        # Starting at the root, navigate the Trie to find a match for this path\n",
    "        # Return the handler for a match, or None for no match\n",
    "        current_node = self.root\n",
    "        \n",
    "        for part in path_parts:\n",
    "            if part != \"\":\n",
    "                if part not in current_node.children:\n",
    "                    return \"handler not found\"\n",
    "                current_node = current_node.children[part]\n",
    "                \n",
    "        return current_node.handler\n",
    "    \n",
    "# # # test RouteTrie\n",
    "# trie = RouteTrie()\n",
    "# trie.insert(\"/test\", \"test handler\")\n",
    "# print(trie.find(\"test\"))\n",
    "# print(trie.find(\"/home\"))"
   ]
  },
  {
   "cell_type": "code",
   "execution_count": 28,
   "id": "d1647143",
   "metadata": {},
   "outputs": [],
   "source": [
    "## The Router class will wrap the Trie and handle \n",
    "class Router:\n",
    "    def __init__(self, handler):\n",
    "        # Create a new RouteTrie for holding our routes\n",
    "        # You could also add a handler for 404 page not found responses as well!\n",
    "        self.router = RouteTrie(handler)\n",
    "        \n",
    "    def add_handler(self, path, handler):\n",
    "        # Add a handler for a path\n",
    "        # You will need to split the path and pass the pass parts\n",
    "        # as a list to the RouteTrie\n",
    "        parts = self.split_path(path)\n",
    "        self.router.insert(parts, handler)\n",
    "        \n",
    "    def lookup(self, path):\n",
    "        # lookup path (by parts) and return the associated handler\n",
    "        # you can return None if it's not found or\n",
    "        # return the \"not found\" handler if you added one\n",
    "        # bonus points if a path works with and without a trailing slash\n",
    "        # e.g. /about and /about/ both return the /about handler\n",
    "        parts = self.split_path(path)\n",
    "        return self.router.find(parts)\n",
    "    \n",
    "    def split_path(self, path):\n",
    "        # you need to split the path into parts for \n",
    "        # both the add_handler and loopup functions,\n",
    "        # so it should be placed in a function here\n",
    "        parts = path.split(\"/\")\n",
    "        # this handles the trailing slashes\n",
    "        if parts[-1] == \"\": #check the last part in the path\n",
    "            parts = parts[:-1] #if it's empty string exclude it\n",
    "        return parts"
   ]
  },
  {
   "cell_type": "code",
   "execution_count": 29,
   "id": "f3be0684",
   "metadata": {},
   "outputs": [
    {
     "name": "stdout",
     "output_type": "stream",
     "text": [
      "root handler\n",
      "None\n",
      "about handler\n",
      "about handler\n",
      "handler not found\n"
     ]
    }
   ],
   "source": [
    "## Here are some test cases and expected outputs you can use to test your implementation\n",
    "\n",
    "## create the router and add a route\n",
    "router = Router(\"root handler\") # remove the 'not found handler' if you did not implement this\n",
    "router.add_handler(\"/home/about\", \"about handler\")  # add a route\n",
    "\n",
    "## some lookups with the expected output\n",
    "print(router.lookup(\"/\")) # should print 'root handler'\n",
    "print(router.lookup(\"/home\")) # should print 'not found handler' or None if you did not implement one\n",
    "print(router.lookup(\"/home/about\")) # should print 'about handler'\n",
    "print(router.lookup(\"/home/about/\")) # should print 'about handler' or None if you did not handle trailing slashes\n",
    "print(router.lookup(\"/home/about/me\")) # should print 'not found handler' or None if you did not implement one"
   ]
  },
  {
   "cell_type": "code",
   "execution_count": null,
   "id": "807688a0",
   "metadata": {},
   "outputs": [],
   "source": []
  }
 ],
 "metadata": {
  "kernelspec": {
   "display_name": "Python 3 (ipykernel)",
   "language": "python",
   "name": "python3"
  },
  "language_info": {
   "codemirror_mode": {
    "name": "ipython",
    "version": 3
   },
   "file_extension": ".py",
   "mimetype": "text/x-python",
   "name": "python",
   "nbconvert_exporter": "python",
   "pygments_lexer": "ipython3",
   "version": "3.11.3"
  }
 },
 "nbformat": 4,
 "nbformat_minor": 5
}
