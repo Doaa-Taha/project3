{
 "cells": [
  {
   "cell_type": "code",
   "execution_count": 16,
   "id": "e0fdd267",
   "metadata": {},
   "outputs": [],
   "source": [
    "def sqrt(number):\n",
    "    \"\"\"\n",
    "    Calculate the floored square root of a number\n",
    "\n",
    "    Args:\n",
    "       number(int): Number to find the floored squared root\n",
    "    Returns:\n",
    "       int: Floored Square Root\n",
    "    \"\"\"\n",
    "#  initiate variables for start point of the search and the end point\n",
    "    start_num = 1\n",
    "    end_num = number\n",
    "    \n",
    "    # first check if the number = 0 0r 1 if yes return the number\n",
    "    if number == 0 or number == 1:\n",
    "        return number\n",
    "    # else if the number < 0 , return negative numbers can't have square roots\n",
    "    elif number < 0:\n",
    "        return \"negative numbers can't have square roots\"\n",
    "    # else do the binary search\n",
    "    else: \n",
    "        while end_num >= start_num:   #loop over the number and terminate the loop if the start_num exceeds or equals the end_num\n",
    "            # find the middle point to start the binary search\n",
    "            mid = (start_num + end_num) // 2    #floor the mid point\n",
    "\n",
    "            if number // mid == mid:    #check if this mid is the floored square root of the number\n",
    "                return mid\n",
    "            #if not check if squared value of the middle number is bigger than the input number, if so update the end_num to search in the 1st half\n",
    "            elif mid * mid > number:  \n",
    "                end_num = mid - 1\n",
    "            #else means the squared value of the middle number is smaller than the number so s\n",
    "            else:\n",
    "                start_num = mid + 1    \n",
    "    \n",
    "    pass"
   ]
  },
  {
   "cell_type": "code",
   "execution_count": 17,
   "id": "4596cddb",
   "metadata": {},
   "outputs": [
    {
     "name": "stdout",
     "output_type": "stream",
     "text": [
      "Pass\n",
      "Pass\n",
      "Pass\n",
      "Pass\n",
      "Pass\n"
     ]
    }
   ],
   "source": [
    "print (\"Pass\" if  (3 == sqrt(9)) else \"Fail\")\n",
    "print (\"Pass\" if  (4 == sqrt(16)) else \"Fail\")\n",
    "print (\"Pass\" if  (1 == sqrt(1)) else \"Fail\")\n",
    "print (\"Pass\" if  (5 == sqrt(27)) else \"Fail\")\n",
    "print (\"Pass\" if  (\"negative numbers can't have square roots\" == sqrt(-2)) else \"Fail\")"
   ]
  },
  {
   "cell_type": "code",
   "execution_count": 21,
   "id": "7656e34e",
   "metadata": {},
   "outputs": [
    {
     "name": "stdout",
     "output_type": "stream",
     "text": [
      "Pass\n",
      "Pass\n",
      "Pass\n"
     ]
    }
   ],
   "source": [
    "# edge cases tests\n",
    "# 1) negative values\n",
    "print (\"Pass\" if  (\"negative numbers can't have square roots\" == sqrt(-2)) else \"Fail\")\n",
    "# 2) test if number == 0 \n",
    "print (\"Pass\" if  (0 == sqrt(0)) else \"Fail\")\n",
    "# 3) test large inputs\n",
    "print (\"Pass\" if  (1000 == sqrt(1000010)) else \"Fail\")"
   ]
  },
  {
   "cell_type": "code",
   "execution_count": null,
   "id": "b9b4792d",
   "metadata": {},
   "outputs": [],
   "source": []
  }
 ],
 "metadata": {
  "kernelspec": {
   "display_name": "Python 3 (ipykernel)",
   "language": "python",
   "name": "python3"
  },
  "language_info": {
   "codemirror_mode": {
    "name": "ipython",
    "version": 3
   },
   "file_extension": ".py",
   "mimetype": "text/x-python",
   "name": "python",
   "nbconvert_exporter": "python",
   "pygments_lexer": "ipython3",
   "version": "3.11.3"
  }
 },
 "nbformat": 4,
 "nbformat_minor": 5
}
