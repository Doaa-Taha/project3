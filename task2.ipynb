{
 "cells": [
  {
   "cell_type": "code",
   "execution_count": 10,
   "id": "e32ca3b9",
   "metadata": {},
   "outputs": [],
   "source": [
    "def rotated_array_search(input_list, number):\n",
    "    \"\"\"\n",
    "    Find the index by searching in a rotated sorted array\n",
    "\n",
    "    Args:\n",
    "       input_list(array), number(int): Input array to search and the target\n",
    "    Returns:\n",
    "       int: Index or -1\n",
    "    \"\"\"  \n",
    "    \n",
    "    start_index = 0\n",
    "    end_index = len(input_list) - 1\n",
    "    start_element = input_list[start_index]\n",
    "    end_element = input_list[end_index]\n",
    "   \n",
    "    while start_index <= end_index:\n",
    "        mid_index = (start_index + end_index) // 2\n",
    "        mid_element = input_list[mid_index]\n",
    "        print(mid_element)\n",
    "        if mid_element == number:\n",
    "            return mid_index\n",
    "        \n",
    "        # 1st check if the first half of the array is sorted by checking that the fist element is smaller than the mid_element\n",
    "        if start_element < mid_element:\n",
    "            \n",
    "            if start_element <= number < mid_element:\n",
    "                end_index = mid_index - 1\n",
    "            else: \n",
    "                start_index = mid_index + 1\n",
    "        \n",
    "        else:\n",
    "            \n",
    "            if mid_element < number <= end_element:\n",
    "                start_index = mid_index +1 \n",
    "            else:\n",
    "                end_index = mid_index - 1\n",
    "            \n",
    "\n",
    "\n",
    "    return -1\n",
    "\n",
    "    pass"
   ]
  },
  {
   "cell_type": "code",
   "execution_count": 11,
   "id": "7dcc287e",
   "metadata": {},
   "outputs": [],
   "source": [
    "def linear_search(input_list, number):\n",
    "    for index, element in enumerate(input_list):\n",
    "        if element == number:\n",
    "            return index\n",
    "    return -1\n",
    "    \n",
    "def test_function(test_case):\n",
    "    input_list = test_case[0]\n",
    "    number = test_case[1]\n",
    "    if linear_search(input_list, number) == rotated_array_search(input_list, number):\n",
    "        print(\"Pass\")\n",
    "    else:\n",
    "        print(\"Fail\")\n"
   ]
  },
  {
   "cell_type": "code",
   "execution_count": 12,
   "id": "70098f0d",
   "metadata": {},
   "outputs": [],
   "source": [
    "test_function([[6, 7, 8, 9, 10, 1, 2, 3, 4], 6])\n",
    "test_function([[6, 7, 8, 9, 10, 1, 2, 3, 4], 1])\n",
    "test_function([[6, 7, 8, 1, 2, 3, 4], 8])\n",
    "test_function([[6, 7, 8, 1, 2, 3, 4], 1])\n",
    "test_function([[6, 7, 8, 1, 2, 3, 4], 10])"
   ]
  },
  {
   "cell_type": "code",
   "execution_count": null,
   "id": "6d9e89ee",
   "metadata": {},
   "outputs": [],
   "source": []
  }
 ],
 "metadata": {
  "kernelspec": {
   "display_name": "Python 3 (ipykernel)",
   "language": "python",
   "name": "python3"
  },
  "language_info": {
   "codemirror_mode": {
    "name": "ipython",
    "version": 3
   },
   "file_extension": ".py",
   "mimetype": "text/x-python",
   "name": "python",
   "nbconvert_exporter": "python",
   "pygments_lexer": "ipython3",
   "version": "3.11.3"
  }
 },
 "nbformat": 4,
 "nbformat_minor": 5
}
